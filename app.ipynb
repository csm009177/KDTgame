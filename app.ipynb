{
 "cells": [
  {
   "cell_type": "code",
   "execution_count": 3,
   "metadata": {},
   "outputs": [
    {
     "name": "stdout",
     "output_type": "stream",
     "text": [
      "['피카츄', '파이리', '이상해씨', '꼬부기']\n"
     ]
    }
   ],
   "source": [
    "pokemon = ['피카츄', '파이리', '이상해씨']\n",
    "new_pokemon = '꼬부기'\n",
    "\n",
    "for i in range(len(pokemon)):\n",
    "    if i == len(pokemon) - 1:\n",
    "        # 배열의 마지막 요소를 직접 수정\n",
    "        pokemon += [new_pokemon]\n",
    "\n",
    "print(pokemon)"
   ]
  }
 ],
 "metadata": {
  "kernelspec": {
   "display_name": "Python 3",
   "language": "python",
   "name": "python3"
  },
  "language_info": {
   "codemirror_mode": {
    "name": "ipython",
    "version": 3
   },
   "file_extension": ".py",
   "mimetype": "text/x-python",
   "name": "python",
   "nbconvert_exporter": "python",
   "pygments_lexer": "ipython3",
   "version": "3.11.5"
  }
 },
 "nbformat": 4,
 "nbformat_minor": 2
}
